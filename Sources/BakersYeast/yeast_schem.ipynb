{
 "cells": [
  {
   "cell_type": "code",
   "execution_count": 3,
   "metadata": {},
   "outputs": [],
   "source": [
    "import mcschematic\n",
    "import tifffile\n",
    "import numpy as np\n",
    "\n",
    "SCHEM_DIR = \".\"\n",
    "\n",
    "def write_image(schem : mcschematic.MCSchematic, bool_image : np.ndarray, block_data : str):\n",
    "    \"\"\"Writes a boolean image to a schematic.\"\"\"\n",
    "    assert bool_image.ndim == 3\n",
    "    for idx, bool_value in np.ndenumerate(bool_image):\n",
    "        if bool_value:\n",
    "            schem.setBlock(idx, block_data)\n",
    "    \n",
    "def read_npy(path : str):\n",
    "    \"\"\"reads a boolean image from a numpy file.\"\"\"\n",
    "    img = np.load(path)\n",
    "    bool_img = img.astype(\"bool\") # ensure boolean\n",
    "    return bool_img\n",
    "\n"
   ]
  },
  {
   "cell_type": "markdown",
   "metadata": {},
   "source": [
    "# Cytoplasm"
   ]
  },
  {
   "cell_type": "code",
   "execution_count": 4,
   "metadata": {},
   "outputs": [],
   "source": [
    "# create a schematic object\n",
    "schem = mcschematic.MCSchematic()\n",
    "\n",
    "path = \"./npys/cytoPlasm.npy\"\n",
    "block = \"minecraft:air\"\n",
    "\n",
    "write_image(schem, read_npy(path), block)\n",
    "\n",
    "path = \"./npys/plasmMembrane.npy\"\n",
    "block = \"minecraft:lime_stained_glass\"\n",
    "\n",
    "write_image(schem, read_npy(path), block)"
   ]
  },
  {
   "cell_type": "markdown",
   "metadata": {},
   "source": [
    "# Cell Wall"
   ]
  },
  {
   "cell_type": "code",
   "execution_count": 5,
   "metadata": {},
   "outputs": [],
   "source": [
    "path = \"./npys/cellWall.npy\"\n",
    "# block = \"minecraft:light_gray_stained_glass\"\n",
    "block = \"minecraft:glass\"\n",
    "write_image(schem, read_npy(path), block)"
   ]
  },
  {
   "cell_type": "markdown",
   "metadata": {},
   "source": [
    "# Nuclei"
   ]
  },
  {
   "cell_type": "markdown",
   "metadata": {},
   "source": [
    "stained glass colors can be found here: https://minecraft.fandom.com/wiki/Glass"
   ]
  },
  {
   "cell_type": "code",
   "execution_count": 6,
   "metadata": {},
   "outputs": [],
   "source": [
    "path = \"./npys/nucleoPlasm.npy\"\n",
    "block = \"minecraft:air\"\n",
    "\n",
    "write_image(schem, read_npy(path), block)\n",
    "\n",
    "path = \"./npys/nucleoEnvelop.npy\"\n",
    "block = \"minecraft:red_concrete\"\n",
    "write_image(schem, read_npy(path), block)\n",
    "\n"
   ]
  },
  {
   "cell_type": "code",
   "execution_count": 7,
   "metadata": {},
   "outputs": [],
   "source": [
    "# try to add nuclear pores\n",
    "path = \"./npys/nucleoPores.npy\"\n",
    "block = \"minecraft:air\"\n",
    "write_image(schem, read_npy(path), block)"
   ]
  },
  {
   "cell_type": "markdown",
   "metadata": {},
   "source": [
    "# Mitochondria "
   ]
  },
  {
   "cell_type": "code",
   "execution_count": 8,
   "metadata": {},
   "outputs": [],
   "source": [
    "path = \"./npys/mitochondria.npy\"\n",
    "block = \"minecraft:light_blue_concrete\"\n",
    "write_image(schem, read_npy(path), block)"
   ]
  },
  {
   "cell_type": "markdown",
   "metadata": {},
   "source": [
    "# Vacuole"
   ]
  },
  {
   "cell_type": "code",
   "execution_count": 9,
   "metadata": {},
   "outputs": [],
   "source": [
    "path = \"./npys/vacuole.npy\"\n",
    "block = \"minecraft:purple_concrete\"\n",
    "write_image(schem, read_npy(path), block)"
   ]
  },
  {
   "cell_type": "markdown",
   "metadata": {},
   "source": [
    "# Save the Schme without ribo"
   ]
  },
  {
   "cell_type": "code",
   "execution_count": 10,
   "metadata": {},
   "outputs": [],
   "source": [
    "schem.save(SCHEM_DIR, \"yeast_noribo_2023\", mcschematic.Version.JE_1_20)"
   ]
  },
  {
   "cell_type": "markdown",
   "metadata": {},
   "source": [
    "# Ribosomes added"
   ]
  },
  {
   "cell_type": "markdown",
   "metadata": {},
   "source": [
    "add 10% density of origianl paper, whcih is roungly 18000.\n"
   ]
  },
  {
   "cell_type": "code",
   "execution_count": 11,
   "metadata": {},
   "outputs": [
    {
     "name": "stdout",
     "output_type": "stream",
     "text": [
      "1930\n"
     ]
    }
   ],
   "source": [
    "# ribo_path = \"./npys/1%ribo.npy\"\n",
    "ribo_path = \"./npys/ribo1%.npy\"\n",
    "ribo = np.load(ribo_path)\n",
    "\n",
    "\n",
    "ribo_num = np.count_nonzero(ribo)\n",
    "print(ribo_num)"
   ]
  },
  {
   "cell_type": "markdown",
   "metadata": {},
   "source": [
    "acoording to tyler's 2017 paper(P5), 180,000 ribosomes sites are placed in the lattice, which means here we must have some overlapping."
   ]
  },
  {
   "cell_type": "code",
   "execution_count": 12,
   "metadata": {},
   "outputs": [],
   "source": [
    "# path = \"./npys/1%ribo.npy\"\n",
    "path = \"./npys/ribo1%.npy\"\n",
    "# block = \"minecraft:yellow_stained_glass\"\n",
    "block = \"minecraft:yellow_concrete\"\n",
    "write_image(schem, read_npy(path), block)"
   ]
  },
  {
   "cell_type": "code",
   "execution_count": 13,
   "metadata": {},
   "outputs": [],
   "source": [
    "# schem.save(SCHEM_DIR, \"yeast_ribo_2023_1%\", mcschematic.Version.JE_1_20)\n",
    "schem.save(SCHEM_DIR, \"yeast_decreasing_ribo_2023_1%\", mcschematic.Version.JE_1_20)"
   ]
  },
  {
   "cell_type": "markdown",
   "metadata": {},
   "source": [
    "# A simple 3d visualizer"
   ]
  },
  {
   "cell_type": "code",
   "execution_count": 14,
   "metadata": {},
   "outputs": [],
   "source": [
    "# import numpy as np\n",
    "# import matplotlib.pyplot as plt\n",
    "# from mpl_toolkits.mplot3d import Axes3D\n",
    "\n",
    "# # Generating a sample 3D numpy array\n",
    "# x = np.load(\"extracellular.npy\")\n",
    "# print(x.shape)\n",
    "# print(x)\n",
    "# # Extracting the indices of True values\n",
    "# true_points = np.argwhere(x)\n",
    "\n",
    "# # Creating a 3D scatter plot for these points\n",
    "# fig = plt.figure(figsize=(8, 6))\n",
    "# ax = fig.add_subplot(111, projection='3d')\n",
    "\n",
    "# # Scatter plot for points where the value is True\n",
    "# ax.scatter(true_points[:, 0], true_points[:, 1], true_points[:, 2], alpha=0.6)\n",
    "\n",
    "# # Labeling axes\n",
    "# ax.set_xlabel('X axis')\n",
    "# ax.set_ylabel('Y axis')\n",
    "# ax.set_zlabel('Z axis')\n",
    "\n",
    "# plt.title('3D Scatter Plot of True Points in a Binary Array')\n",
    "# plt.show()\n"
   ]
  }
 ],
 "metadata": {
  "kernelspec": {
   "display_name": "amulet",
   "language": "python",
   "name": "python3"
  },
  "language_info": {
   "codemirror_mode": {
    "name": "ipython",
    "version": 3
   },
   "file_extension": ".py",
   "mimetype": "text/x-python",
   "name": "python",
   "nbconvert_exporter": "python",
   "pygments_lexer": "ipython3",
   "version": "3.12.0"
  }
 },
 "nbformat": 4,
 "nbformat_minor": 2
}
