{
 "cells": [
  {
   "cell_type": "code",
   "execution_count": 11,
   "metadata": {},
   "outputs": [],
   "source": [
    "from __future__ import absolute_import, division, print_function, unicode_literals\n",
    "import logging\n",
    "\n",
    "import numpy as np\n",
    "\n",
    "from mcedit2.worldview.schematic_worldview import displaySchematic\n",
    "from mceditlib.schematic import SchematicFileAdapter, createSchematic\n",
    "from mceditlib.worldeditor import WorldEditor\n",
    "\n",
    "log = logging.getLogger(__name__)"
   ]
  },
  {
   "cell_type": "code",
   "execution_count": 12,
   "metadata": {},
   "outputs": [],
   "source": [
    "MinCellRegionDict = {'membrane': tuple([95, 5]),\n",
    "                     'ribosomes': tuple([35, 4]), 'cytoplasm': \"minecraft:air\",\n",
    "                     'DNA': tuple([35, 14])} # 'extracellular': \"minecraft:air\", "
   ]
  },
  {
   "cell_type": "code",
   "execution_count": 13,
   "metadata": {},
   "outputs": [],
   "source": [
    "def getRegion(regionName):\n",
    "#     npFileName = regionName + '.npy'\n",
    "    npFileName = regionName + '_4nm.npy'\n",
    "    region = np.load(npFileName)\n",
    "    region = np.argwhere(region==True)\n",
    "    return region\n",
    "\n",
    "def regionToMinecraft(regionName, MinecraftBlock):\n",
    "    if MinecraftBlock != \"minecraft:air\":\n",
    "        region = getRegion(regionName)\n",
    "        for site in region:\n",
    "            dim.setBlock(site[0], site[1], site[2], MinecraftBlock)"
   ]
  },
  {
   "cell_type": "code",
   "execution_count": 15,
   "metadata": {},
   "outputs": [],
   "source": [
    "# extracellular = np.load('extracellular.npy')\n",
    "extracellular = np.load('membrane_4nm.npy')\n",
    "width = extracellular.shape[0]\n",
    "length = extracellular.shape[1]\n",
    "height = extracellular.shape[2]"
   ]
  },
  {
   "cell_type": "code",
   "execution_count": 16,
   "metadata": {},
   "outputs": [
    {
     "data": {
      "text/plain": [
       "WorldEditor(adapter=SchematicFileAdapter(shape=(128, 128, 128), blocktypes=Alpha, filename=\"\"))"
      ]
     },
     "execution_count": 16,
     "metadata": {},
     "output_type": "execute_result"
    }
   ],
   "source": [
    "world = createSchematic((width, height, length))\n",
    "world"
   ]
  },
  {
   "cell_type": "code",
   "execution_count": 17,
   "metadata": {},
   "outputs": [
    {
     "data": {
      "text/plain": [
       "WorldEditorDimension(dimName='', adapter=SchematicFileAdapter(shape=(128, 128, 128), blocktypes=Alpha, filename=\"\"))"
      ]
     },
     "execution_count": 17,
     "metadata": {},
     "output_type": "execute_result"
    }
   ],
   "source": [
    "dim = world.getDimension()\n",
    "dim"
   ]
  },
  {
   "cell_type": "code",
   "execution_count": 18,
   "metadata": {},
   "outputs": [],
   "source": [
    "# dim.setBlock?"
   ]
  },
  {
   "cell_type": "code",
   "execution_count": 19,
   "metadata": {},
   "outputs": [],
   "source": [
    "for regionName, MinecraftBlock in MinCellRegionDict.items():\n",
    "    regionToMinecraft(regionName, MinecraftBlock)"
   ]
  },
  {
   "cell_type": "code",
   "execution_count": 20,
   "metadata": {},
   "outputs": [],
   "source": [
    "world.saveToFile(\"MinCell_4nm.schematic\")"
   ]
  },
  {
   "cell_type": "code",
   "execution_count": 21,
   "metadata": {},
   "outputs": [],
   "source": [
    "displaySchematic(dim)"
   ]
  },
  {
   "cell_type": "code",
   "execution_count": null,
   "metadata": {},
   "outputs": [],
   "source": []
  },
  {
   "cell_type": "code",
   "execution_count": null,
   "metadata": {},
   "outputs": [],
   "source": []
  },
  {
   "cell_type": "code",
   "execution_count": null,
   "metadata": {},
   "outputs": [],
   "source": []
  },
  {
   "cell_type": "code",
   "execution_count": null,
   "metadata": {},
   "outputs": [],
   "source": []
  },
  {
   "cell_type": "code",
   "execution_count": null,
   "metadata": {},
   "outputs": [],
   "source": []
  },
  {
   "cell_type": "code",
   "execution_count": null,
   "metadata": {},
   "outputs": [],
   "source": []
  }
 ],
 "metadata": {
  "kernelspec": {
   "display_name": "Python 3 (ipykernel)",
   "language": "python",
   "name": "python3"
  },
  "language_info": {
   "codemirror_mode": {
    "name": "ipython",
    "version": 3
   },
   "file_extension": ".py",
   "mimetype": "text/x-python",
   "name": "python",
   "nbconvert_exporter": "python",
   "pygments_lexer": "ipython3",
   "version": "3.7.3"
  }
 },
 "nbformat": 4,
 "nbformat_minor": 2
}
